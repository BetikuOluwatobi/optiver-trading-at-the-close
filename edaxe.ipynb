{
 "cells": [
  {
   "cell_type": "code",
   "execution_count": 1,
   "id": "02ec3474",
   "metadata": {
    "execution": {
     "iopub.execute_input": "2024-12-19T08:22:24.668682Z",
     "iopub.status.busy": "2024-12-19T08:22:24.668271Z",
     "iopub.status.idle": "2024-12-19T08:22:24.688486Z",
     "shell.execute_reply": "2024-12-19T08:22:24.687448Z"
    },
    "papermill": {
     "duration": 0.027176,
     "end_time": "2024-12-19T08:22:24.690732",
     "exception": false,
     "start_time": "2024-12-19T08:22:24.663556",
     "status": "completed"
    },
    "tags": []
   },
   "outputs": [
    {
     "name": "stdout",
     "output_type": "stream",
     "text": [
      "/kaggle/input/optiver-trading-at-the-close/public_timeseries_testing_util.py\n",
      "/kaggle/input/optiver-trading-at-the-close/train.csv\n",
      "/kaggle/input/optiver-trading-at-the-close/example_test_files/sample_submission.csv\n",
      "/kaggle/input/optiver-trading-at-the-close/example_test_files/revealed_targets.csv\n",
      "/kaggle/input/optiver-trading-at-the-close/example_test_files/test.csv\n",
      "/kaggle/input/optiver-trading-at-the-close/optiver2023/competition.cpython-310-x86_64-linux-gnu.so\n",
      "/kaggle/input/optiver-trading-at-the-close/optiver2023/__init__.py\n"
     ]
    }
   ],
   "source": [
    "import os\n",
    "for dirname, _, filenames in os.walk('/kaggle/input'):\n",
    "    for filename in filenames:\n",
    "        print(os.path.join(dirname, filename))"
   ]
  },
  {
   "cell_type": "code",
   "execution_count": 2,
   "id": "47387438",
   "metadata": {
    "execution": {
     "iopub.execute_input": "2024-12-19T08:22:24.699932Z",
     "iopub.status.busy": "2024-12-19T08:22:24.699596Z",
     "iopub.status.idle": "2024-12-19T08:22:29.498151Z",
     "shell.execute_reply": "2024-12-19T08:22:29.497075Z"
    },
    "papermill": {
     "duration": 4.80491,
     "end_time": "2024-12-19T08:22:29.500519",
     "exception": false,
     "start_time": "2024-12-19T08:22:24.695609",
     "status": "completed"
    },
    "tags": []
   },
   "outputs": [],
   "source": [
    "import numpy as np\n",
    "import pandas as pd\n",
    "from pathlib import Path\n",
    "import optiver2023\n",
    "import optuna\n",
    "from sklearn.model_selection import train_test_split\n",
    "from sklearn.preprocessing import MinMaxScaler\n",
    "from sklearn.pipeline import make_pipeline\n",
    "from sklearn.metrics import mean_absolute_error\n",
    "from sklearn.model_selection import TimeSeriesSplit\n",
    "from tqdm import tqdm\n",
    "import lightgbm as lgb\n",
    "from sklearn.linear_model import RANSACRegressor\n",
    "from sklearn.ensemble import VotingRegressor, RandomForestRegressor"
   ]
  },
  {
   "cell_type": "code",
   "execution_count": 3,
   "id": "5e377c90",
   "metadata": {
    "execution": {
     "iopub.execute_input": "2024-12-19T08:22:29.508200Z",
     "iopub.status.busy": "2024-12-19T08:22:29.507884Z",
     "iopub.status.idle": "2024-12-19T08:22:29.516260Z",
     "shell.execute_reply": "2024-12-19T08:22:29.515484Z"
    },
    "papermill": {
     "duration": 0.014404,
     "end_time": "2024-12-19T08:22:29.518168",
     "exception": false,
     "start_time": "2024-12-19T08:22:29.503764",
     "status": "completed"
    },
    "tags": []
   },
   "outputs": [],
   "source": [
    "def set_seeds(seed):\n",
    "    np.random.seed(seed)\n",
    "    \n",
    "class CFG(object):\n",
    "    def __init__(self):\n",
    "        self.work_dir = Path('/kaggle/input/optiver-trading-at-the-close/')\n",
    "        self.params = {\"boosting_type\":'dart',\"num_leaves\":31,\"max_depth\":10,\"learning_rate\":0.01,\n",
    "                  \"n_estimators\":500,\"objective\":'regression'}\n",
    "        self.SEED = 42\n",
    "    def make_lgbm(self,seed=11):\n",
    "        lgbm = make_pipeline(MinMaxScaler(feature_range=(0,10)),\n",
    "                      RANSACRegressor(\n",
    "                          estimator=lgb.LGBMRegressor(boosting_type='dart',num_leaves=31,\n",
    "                                                      max_depth=7,learning_rate=0.01,\n",
    "                                                      n_estimators=300,objective='regression'),\n",
    "                          max_trials=10, min_samples=100, loss='squared_error', \n",
    "                          residual_threshold=5.0,random_state=seed))\n",
    "        return lgbm\n",
    "    def make_rf(self,seed=11):\n",
    "        rf = make_pipeline(MinMaxScaler(feature_range=(0,10)),\n",
    "                        RandomForestRegressor(n_estimators=10,max_depth=6,min_samples_split=2,\n",
    "                                              max_features=0.65,random_state=seed,criterion=\"squared_error\"))\n",
    "        return rf\n",
    "    \n",
    "CFG = CFG()\n",
    "set_seeds(CFG.SEED)\n",
    "env = optiver2023.make_env()\n",
    "iter_test = env.iter_test()"
   ]
  },
  {
   "cell_type": "code",
   "execution_count": 4,
   "id": "c8a75df0",
   "metadata": {
    "execution": {
     "iopub.execute_input": "2024-12-19T08:22:29.525496Z",
     "iopub.status.busy": "2024-12-19T08:22:29.525203Z",
     "iopub.status.idle": "2024-12-19T08:22:47.752092Z",
     "shell.execute_reply": "2024-12-19T08:22:47.751080Z"
    },
    "papermill": {
     "duration": 18.233622,
     "end_time": "2024-12-19T08:22:47.754782",
     "exception": false,
     "start_time": "2024-12-19T08:22:29.521160",
     "status": "completed"
    },
    "tags": []
   },
   "outputs": [],
   "source": [
    "train_data = pd.read_csv(CFG.work_dir/\"train.csv\")"
   ]
  },
  {
   "cell_type": "code",
   "execution_count": 5,
   "id": "27a12ecd",
   "metadata": {
    "execution": {
     "iopub.execute_input": "2024-12-19T08:22:47.763330Z",
     "iopub.status.busy": "2024-12-19T08:22:47.762973Z",
     "iopub.status.idle": "2024-12-19T08:22:47.785277Z",
     "shell.execute_reply": "2024-12-19T08:22:47.784321Z"
    },
    "papermill": {
     "duration": 0.029337,
     "end_time": "2024-12-19T08:22:47.787414",
     "exception": false,
     "start_time": "2024-12-19T08:22:47.758077",
     "status": "completed"
    },
    "tags": []
   },
   "outputs": [],
   "source": [
    "class EdaXe(object):\n",
    "    \"\"\"\n",
    "    Helper Fucntion for formatting time series data into rolling features.\n",
    "    \"\"\"\n",
    "    \n",
    "    def __init__(self, data=train_data, features='wap', window=3, splits=5):\n",
    "        self.df = data\n",
    "        self.features = features\n",
    "        self.window = window\n",
    "        self.splits = splits\n",
    "        self.error = 0\n",
    "        self.tscv = TimeSeriesSplit(n_splits=splits)\n",
    "        \n",
    "    def rolling_time_series_split(self,df):\n",
    "        n_samples = len(df)\n",
    "        folds = n_samples // self.splits\n",
    "        indices = np.arange(n_samples)\n",
    "\n",
    "        margin = 0\n",
    "        for i in range(self.splits): \n",
    "            start = i * folds\n",
    "            stop = start + folds\n",
    "            temp = int(0.8 * folds) + start\n",
    "            yield indices[start: temp], indices[temp + margin: stop]\n",
    "    \n",
    "    def roll_stock(self, data):\n",
    "        data['movement_ratio'] = data['bid_size']/data['ask_size']\n",
    "        data['wap_diff'] = np.log(data['wap']).diff(2)\n",
    "        data['imbalance_diff'] = data['imbalance_size'].diff()\n",
    "        data['reference_price'] = data['reference_price'].diff(2)\n",
    "        cols = ['movement_ratio','imbalance_buy_sell_flag','wap_diff','imbalance_diff',\n",
    "                'reference_price']\n",
    "        stock_data = pd.concat([data[self.features].rolling(self.window).sum(),data[cols]], axis=1)\n",
    "        return stock_data\n",
    "    \n",
    "    def roll_data(self, stock_data):\n",
    "        stock_data = stock_data.copy()\n",
    "        data = pd.concat([self.roll_stock(stock_data),stock_data[['target']]],axis=1).dropna()\n",
    "        windowed_data = data.values[:,:-1]\n",
    "        window_features = data[['target']].values\n",
    "        step = self.window * windowed_data.shape[1]\n",
    "        column = step + window_features.shape[1]\n",
    "        dt = np.full((len(windowed_data), column), np.nan)\n",
    "        for start in range(0, len(windowed_data)):\n",
    "            end = start+self.window\n",
    "            if end > len(windowed_data) - 1:\n",
    "                end = len(windowed_data)\n",
    "            length = end - start\n",
    "            step = length * windowed_data.shape[1]\n",
    "            target = end - 1\n",
    "            dt[start, :step] = windowed_data[start:end].reshape((1,-1))\n",
    "            dt[start, -1] = window_features[target]\n",
    "        mask = np.any(np.isnan(dt), axis=1)\n",
    "        dt = dt[~mask]\n",
    "        return dt\n",
    "    \n",
    "    def roll_test(self,stock_data):\n",
    "        stock_data = stock_data.copy()\n",
    "        windowed_data = self.roll_stock(stock_data).dropna().values\n",
    "        step = self.window * windowed_data.shape[1]\n",
    "        dt = np.full((len(windowed_data), step), np.nan)\n",
    "        for start in range(0, len(windowed_data)):\n",
    "            end = start+self.window\n",
    "            if end > len(windowed_data) - 1:\n",
    "                end = len(windowed_data)\n",
    "            length = end - start\n",
    "            step = length * windowed_data.shape[1]\n",
    "            dt[start, :step] = windowed_data[start:end].reshape((1,-1))\n",
    "        mask = np.any(np.isnan(dt), axis=1)\n",
    "        dt = dt[~mask]\n",
    "        return dt\n",
    "        \n",
    "    def train(self, pipeline):\n",
    "        self.df = self.df.fillna(0,axis=0)\n",
    "        columns_given = ['seconds_in_bucket', 'imbalance_size',\n",
    "                         'imbalance_buy_sell_flag', 'reference_price', 'matched_size',\n",
    "                         'far_price', 'near_price', 'bid_price', 'bid_size',\n",
    "                         'ask_price', 'ask_size', 'wap',]\n",
    "        self.df[columns_given] = self.df[columns_given].astype(float)\n",
    "        self.df['wap'] = self.df['wap'] + 1e-12\n",
    "        self.error_list = []\n",
    "        self.pipelines = []\n",
    "        for stock in tqdm(set(self.df['stock_id']), desc='training'):\n",
    "            sample  = self.df.loc[self.df.stock_id == stock]\n",
    "            dt = self.roll_data(sample)\n",
    "            scores = []\n",
    "            for train_index, test_index in self.tscv.split(dt):\n",
    "                X_train, X_test = dt[train_index], dt[test_index]\n",
    "                pipeline.fit(X_train[:,:-1],X_train[:,-1])\n",
    "                preds = pipeline.predict(X_test[:, :-1])\n",
    "                score = mean_absolute_error(y_true=X_test[:, -1], y_pred=preds)\n",
    "                scores.append(score)\n",
    "            self.error_list.append(np.mean(scores))\n",
    "            self.pipelines.append(pipeline)\n",
    "        self.pipeline = pipeline\n",
    "        self.error = np.mean(self.error_list)\n",
    "        return self.error\n",
    "    \n",
    "    def forecast(self,test):\n",
    "        date = test['date_id'].iloc[0]\n",
    "        lagged_time = date - 2\n",
    "        self.df = self.df.loc[self.df['date_id'] >= lagged_time]\n",
    "        if 'target' in self.df.columns:\n",
    "            self.df = self.df.drop(['target','time_id'], axis=1)\n",
    "        columns_given = ['seconds_in_bucket', 'imbalance_size',\n",
    "                         'imbalance_buy_sell_flag', 'reference_price', 'matched_size',\n",
    "                         'far_price', 'near_price', 'bid_price', 'bid_size',\n",
    "                         'ask_price', 'ask_size', 'wap',]\n",
    "        self.df[columns_given] = self.df[columns_given].astype(float)\n",
    "        self.df = pd.concat([self.df,  test])\n",
    "        self.df = self.df.fillna(0,axis=0)\n",
    "        self.df['wap'] = self.df['wap'] + 1e-12\n",
    "        submission = []\n",
    "        for i, stock in enumerate(set(test['stock_id'])):\n",
    "            sample  = self.df.loc[self.df.stock_id == stock]\n",
    "            dt = self.roll_test(sample)\n",
    "            test_length = len(test.loc[test['stock_id'] == stock])\n",
    "            test_data = dt[-test_length:]\n",
    "            preds = self.pipelines[i].predict(test_data)\n",
    "            submission.extend(preds.tolist())\n",
    "        return np.array(submission)"
   ]
  },
  {
   "cell_type": "code",
   "execution_count": 6,
   "id": "da3891fb",
   "metadata": {
    "execution": {
     "iopub.execute_input": "2024-12-19T08:22:47.795143Z",
     "iopub.status.busy": "2024-12-19T08:22:47.794791Z",
     "iopub.status.idle": "2024-12-19T08:22:47.799512Z",
     "shell.execute_reply": "2024-12-19T08:22:47.798514Z"
    },
    "papermill": {
     "duration": 0.01086,
     "end_time": "2024-12-19T08:22:47.801416",
     "exception": false,
     "start_time": "2024-12-19T08:22:47.790556",
     "status": "completed"
    },
    "tags": []
   },
   "outputs": [],
   "source": [
    "preprocess = EdaXe(data=train_data, features=['seconds_in_bucket'], window=20, splits=4)"
   ]
  },
  {
   "cell_type": "code",
   "execution_count": 7,
   "id": "e76327cd",
   "metadata": {
    "execution": {
     "iopub.execute_input": "2024-12-19T08:22:47.809385Z",
     "iopub.status.busy": "2024-12-19T08:22:47.808758Z",
     "iopub.status.idle": "2024-12-19T13:01:53.500360Z",
     "shell.execute_reply": "2024-12-19T13:01:53.499244Z"
    },
    "papermill": {
     "duration": 16745.711389,
     "end_time": "2024-12-19T13:01:53.515979",
     "exception": false,
     "start_time": "2024-12-19T08:22:47.804590",
     "status": "completed"
    },
    "tags": []
   },
   "outputs": [
    {
     "name": "stderr",
     "output_type": "stream",
     "text": [
      "training: 100%|██████████| 200/200 [4:39:04<00:00, 83.72s/it]"
     ]
    },
    {
     "name": "stdout",
     "output_type": "stream",
     "text": [
      "Completed in 16745.68\n",
      "Mean Score: 6.4915\n"
     ]
    },
    {
     "name": "stderr",
     "output_type": "stream",
     "text": [
      "\n"
     ]
    }
   ],
   "source": [
    "import time\n",
    "\n",
    "strt = time.time()\n",
    "\n",
    "pipeline = VotingRegressor(estimators=[('lgbm', CFG.make_lgbm(seed=31)), ('rf', CFG.make_rf(31)),\n",
    "                                       ('rf2', CFG.make_rf(121)),('rf3', CFG.make_rf(71))], weights=[0.65,0.65,0.4,0.27])\n",
    "\n",
    "score = preprocess.train(pipeline=pipeline)\n",
    "end = time.time()\n",
    "ellapsed_time = end - strt\n",
    "print(f'Completed in {ellapsed_time:.2f}')\n",
    "print(f'Mean Score: {score:.4f}')"
   ]
  },
  {
   "cell_type": "code",
   "execution_count": 8,
   "id": "5633e8fd",
   "metadata": {
    "execution": {
     "iopub.execute_input": "2024-12-19T13:01:53.545093Z",
     "iopub.status.busy": "2024-12-19T13:01:53.544240Z",
     "iopub.status.idle": "2024-12-19T13:01:53.551767Z",
     "shell.execute_reply": "2024-12-19T13:01:53.550637Z"
    },
    "papermill": {
     "duration": 0.024493,
     "end_time": "2024-12-19T13:01:53.554069",
     "exception": false,
     "start_time": "2024-12-19T13:01:53.529576",
     "status": "completed"
    },
    "tags": []
   },
   "outputs": [
    {
     "data": {
      "text/plain": [
       "6.491504879170595"
      ]
     },
     "execution_count": 8,
     "metadata": {},
     "output_type": "execute_result"
    }
   ],
   "source": [
    "score"
   ]
  },
  {
   "cell_type": "markdown",
   "id": "47b477ca",
   "metadata": {
    "papermill": {
     "duration": 0.014012,
     "end_time": "2024-12-19T13:01:53.581748",
     "exception": false,
     "start_time": "2024-12-19T13:01:53.567736",
     "status": "completed"
    },
    "tags": []
   },
   "source": [
    "Completed in 8462.62\n",
    "\n",
    "Rolling Split: ['seconds_in_bucket','movement_ratio','imbalance_buy_sell_flag','wap_diff','imbalance_diff','reference_price'], window: 20, splits: 4 </br>\n",
    "Mean Score: 6.3912\n",
    "\n",
    "TimeSeries Split: ['seconds_in_bucket','movement_ratio','imbalance_buy_sell_flag','wap_diff','imbalance_diff','reference_price'], window:20, splits:4 </br>\n",
    "Mean Score: 6.4915"
   ]
  },
  {
   "cell_type": "code",
   "execution_count": 9,
   "id": "09e78942",
   "metadata": {
    "execution": {
     "iopub.execute_input": "2024-12-19T13:01:53.611069Z",
     "iopub.status.busy": "2024-12-19T13:01:53.610637Z",
     "iopub.status.idle": "2024-12-19T13:01:53.615582Z",
     "shell.execute_reply": "2024-12-19T13:01:53.614249Z"
    },
    "papermill": {
     "duration": 0.022469,
     "end_time": "2024-12-19T13:01:53.617708",
     "exception": false,
     "start_time": "2024-12-19T13:01:53.595239",
     "status": "completed"
    },
    "tags": []
   },
   "outputs": [],
   "source": [
    "# optiver2023.make_env.__called__ = False\n",
    "# env = optiver2023.make_env()\n",
    "# type(env)._state = type(type(env)._state).__dict__[\"INIT\"]\n",
    "# iter_test = env.iter_test()"
   ]
  },
  {
   "cell_type": "code",
   "execution_count": 10,
   "id": "6661e229",
   "metadata": {
    "execution": {
     "iopub.execute_input": "2024-12-19T13:01:53.647155Z",
     "iopub.status.busy": "2024-12-19T13:01:53.646661Z",
     "iopub.status.idle": "2024-12-19T13:07:39.494415Z",
     "shell.execute_reply": "2024-12-19T13:07:39.493230Z"
    },
    "papermill": {
     "duration": 345.865631,
     "end_time": "2024-12-19T13:07:39.497340",
     "exception": false,
     "start_time": "2024-12-19T13:01:53.631709",
     "status": "completed"
    },
    "tags": []
   },
   "outputs": [
    {
     "name": "stdout",
     "output_type": "stream",
     "text": [
      "This version of the API is not optimized and should not be used to estimate the runtime of your code on the hidden test set.\n",
      "   stock_id  date_id  seconds_in_bucket  imbalance_size  \\\n",
      "0         0      478                  0      3753451.43   \n",
      "1         1      478                  0       985977.11   \n",
      "2         2      478                  0       599128.74   \n",
      "\n",
      "   imbalance_buy_sell_flag  reference_price  matched_size  far_price  \\\n",
      "0                       -1         0.999875   11548975.43        NaN   \n",
      "1                       -1         1.000245    3850033.97        NaN   \n",
      "2                        1         1.000584    4359198.25        NaN   \n",
      "\n",
      "   near_price  bid_price  bid_size  ask_price  ask_size  wap   row_id  \\\n",
      "0         NaN   0.999875  22940.00   1.000050   9177.60  1.0  478_0_0   \n",
      "1         NaN   0.999940   1967.90   1.000601  19692.00  1.0  478_0_1   \n",
      "2         NaN   0.999918   4488.22   1.000636  34955.12  1.0  478_0_2   \n",
      "\n",
      "   currently_scored  \n",
      "0             False  \n",
      "1             False  \n",
      "2             False  \n"
     ]
    }
   ],
   "source": [
    "counter = 0\n",
    "for (test, revealed_targets, sample_prediction) in iter_test:\n",
    "    if counter == 0:\n",
    "        print(test.head(3))\n",
    "    preds = preprocess.forecast(test)\n",
    "    sample_prediction['target'] = preds\n",
    "    env.predict(sample_prediction)\n",
    "    counter += 1"
   ]
  },
  {
   "cell_type": "code",
   "execution_count": null,
   "id": "59c40cbe",
   "metadata": {
    "papermill": {
     "duration": 0.013236,
     "end_time": "2024-12-19T13:07:39.525452",
     "exception": false,
     "start_time": "2024-12-19T13:07:39.512216",
     "status": "completed"
    },
    "tags": []
   },
   "outputs": [],
   "source": []
  }
 ],
 "metadata": {
  "kaggle": {
   "accelerator": "none",
   "dataSources": [
    {
     "databundleVersionId": 7056235,
     "sourceId": 57891,
     "sourceType": "competition"
    }
   ],
   "dockerImageVersionId": 30558,
   "isGpuEnabled": false,
   "isInternetEnabled": false,
   "language": "python",
   "sourceType": "notebook"
  },
  "kernelspec": {
   "display_name": "Python 3",
   "language": "python",
   "name": "python3"
  },
  "language_info": {
   "codemirror_mode": {
    "name": "ipython",
    "version": 3
   },
   "file_extension": ".py",
   "mimetype": "text/x-python",
   "name": "python",
   "nbconvert_exporter": "python",
   "pygments_lexer": "ipython3",
   "version": "3.10.12"
  },
  "papermill": {
   "default_parameters": {},
   "duration": 17119.540362,
   "end_time": "2024-12-19T13:07:40.686527",
   "environment_variables": {},
   "exception": null,
   "input_path": "__notebook__.ipynb",
   "output_path": "__notebook__.ipynb",
   "parameters": {},
   "start_time": "2024-12-19T08:22:21.146165",
   "version": "2.4.0"
  }
 },
 "nbformat": 4,
 "nbformat_minor": 5
}
